{
 "cells": [
  {
   "cell_type": "code",
   "execution_count": null,
   "metadata": {},
   "outputs": [],
   "source": [
    "import requests\n",
    "from bs4 import BeautifulSoup\n",
    "import lxml\n",
    "import time\n",
    "import sqlite3\n",
    "from sqlalchemy import create_engine\n",
    "from sqlalchemy.orm import DeclarativeBase\n",
    "from sqlalchemy.orm import Session\n",
    "from sqlalchemy.orm import mapped_column\n",
    "from sqlalchemy.orm import Mapped\n",
    "import json"
   ]
  },
  {
   "cell_type": "code",
   "execution_count": null,
   "metadata": {},
   "outputs": [],
   "source": [
    "with open(\"config.json\", \"r\") as configFile:\n",
    "    config = json.loads(configFile.read())\n"
   ]
  },
  {
   "cell_type": "code",
   "execution_count": null,
   "metadata": {},
   "outputs": [],
   "source": [
    "class Base(DeclarativeBase):\n",
    "    pass\n",
    "\n",
    "class vacancies(Base):\n",
    "    __tablename__ = 'vacancies'\n",
    " \n",
    "    key: Mapped[int] = mapped_column(primary_key=True)\n",
    "    company_name: Mapped[str]\n",
    "    position: Mapped[str]\n",
    "    job_description: Mapped[str] \n",
    "    key_skills: Mapped[str]\n",
    "\n",
    "engine = create_engine(config['dbConnect'])\n",
    "Base.metadata.create_all(engine)"
   ]
  },
  {
   "cell_type": "code",
   "execution_count": null,
   "metadata": {},
   "outputs": [],
   "source": [
    "def parsingVacancyList (url,page):\n",
    "\n",
    "    url_params = {\n",
    "    \"text\": \"middle python\",\n",
    "    \"search_field\": \"name\",\n",
    "    \"per_page\": \"20\",\n",
    "    \"page\": page\n",
    "    }\n",
    "\n",
    "    result = requests.get(config['urlSearch'], headers=config['user_agent'], params=url_params)\n",
    "    if result.status_code == 200:\n",
    "        soup = BeautifulSoup(result.content.decode(), \"html.parser\")\n",
    "        vacancyList = soup.find_all('a', attrs={'data-qa': 'serp-item__title'})\n",
    "        return vacancyList\n",
    "    else: \n",
    "        print(f\"Старница списка вакансий не загружена. Код ошибки: {result.status_code}. URL: {url}\")\n",
    "        return None"
   ]
  },
  {
   "cell_type": "code",
   "execution_count": null,
   "metadata": {},
   "outputs": [],
   "source": [
    "def parsingVacancy(url):\n",
    "    tagVacancyList = []\n",
    "    result = requests.get(url, headers=config['user_agent'])\n",
    "    if result.status_code == 200:\n",
    "        soup = BeautifulSoup(result.content.decode(), \"html.parser\")\n",
    "        nameVacancy = soup.find('h1').text\n",
    "        nameCompany = soup.find('a', attrs={'data-qa': 'vacancy-company-name'}).text\n",
    "        descriptionVacancy = soup.find('div', attrs={'data-qa': 'vacancy-description'}).text\n",
    "        for tag in soup.find_all('div', attrs={'data-qa': 'bloko-tag bloko-tag_inline skills-element'}):\n",
    "            tagVacancyList.append(tag.text)\n",
    "        tagVacancy = ', '.join(tagVacancyList)\n",
    "\n",
    "        if tagVacancy:\n",
    "\n",
    "            insert = vacancies(company_name=nameCompany,\n",
    "                         position=nameVacancy, \n",
    "                         job_description=descriptionVacancy, \n",
    "                         key_skills=tagVacancy)\n",
    "            return insert\n",
    "        else:\n",
    "            return None\n",
    "    else: \n",
    "        print(f\"Старница вакансии не загружена. Код ошибки: {result.status_code}. URL: {url}\")\n",
    "        return None"
   ]
  },
  {
   "cell_type": "code",
   "execution_count": 102,
   "metadata": {},
   "outputs": [
    {
     "ename": "AttributeError",
     "evalue": "'NoneType' object has no attribute 'text'",
     "output_type": "error",
     "traceback": [
      "\u001b[0;31m---------------------------------------------------------------------------\u001b[0m",
      "\u001b[0;31mAttributeError\u001b[0m                            Traceback (most recent call last)",
      "Cell \u001b[0;32mIn[102], line 11\u001b[0m\n\u001b[1;32m      9\u001b[0m     \u001b[39mbreak\u001b[39;00m\n\u001b[1;32m     10\u001b[0m \u001b[39mfor\u001b[39;00m vacancy \u001b[39min\u001b[39;00m vacancyList:\n\u001b[0;32m---> 11\u001b[0m     insert \u001b[39m=\u001b[39m parsingVacancy(vacancy\u001b[39m.\u001b[39;49mattrs[\u001b[39m'\u001b[39;49m\u001b[39mhref\u001b[39;49m\u001b[39m'\u001b[39;49m])\n\u001b[1;32m     12\u001b[0m     \u001b[39mif\u001b[39;00m insert \u001b[39mis\u001b[39;00m \u001b[39mnot\u001b[39;00m \u001b[39mNone\u001b[39;00m:\n\u001b[1;32m     13\u001b[0m         \u001b[39mlist\u001b[39m\u001b[39m.\u001b[39mappend(insert)\n",
      "Cell \u001b[0;32mIn[87], line 7\u001b[0m, in \u001b[0;36mparsingVacancy\u001b[0;34m(url)\u001b[0m\n\u001b[1;32m      5\u001b[0m soup \u001b[39m=\u001b[39m BeautifulSoup(result\u001b[39m.\u001b[39mcontent\u001b[39m.\u001b[39mdecode(), \u001b[39m\"\u001b[39m\u001b[39mhtml.parser\u001b[39m\u001b[39m\"\u001b[39m)\n\u001b[1;32m      6\u001b[0m nameVacancy \u001b[39m=\u001b[39m soup\u001b[39m.\u001b[39mfind(\u001b[39m'\u001b[39m\u001b[39mh1\u001b[39m\u001b[39m'\u001b[39m)\u001b[39m.\u001b[39mtext\n\u001b[0;32m----> 7\u001b[0m nameCompany \u001b[39m=\u001b[39m soup\u001b[39m.\u001b[39;49mfind(\u001b[39m'\u001b[39;49m\u001b[39ma\u001b[39;49m\u001b[39m'\u001b[39;49m, attrs\u001b[39m=\u001b[39;49m{\u001b[39m'\u001b[39;49m\u001b[39mdata-qa\u001b[39;49m\u001b[39m'\u001b[39;49m: \u001b[39m'\u001b[39;49m\u001b[39mvacancy-company-name\u001b[39;49m\u001b[39m'\u001b[39;49m})\u001b[39m.\u001b[39;49mtext\n\u001b[1;32m      8\u001b[0m descriptionVacancy \u001b[39m=\u001b[39m soup\u001b[39m.\u001b[39mfind(\u001b[39m'\u001b[39m\u001b[39mdiv\u001b[39m\u001b[39m'\u001b[39m, attrs\u001b[39m=\u001b[39m{\u001b[39m'\u001b[39m\u001b[39mdata-qa\u001b[39m\u001b[39m'\u001b[39m: \u001b[39m'\u001b[39m\u001b[39mvacancy-description\u001b[39m\u001b[39m'\u001b[39m})\u001b[39m.\u001b[39mtext\n\u001b[1;32m      9\u001b[0m \u001b[39mfor\u001b[39;00m tag \u001b[39min\u001b[39;00m soup\u001b[39m.\u001b[39mfind_all(\u001b[39m'\u001b[39m\u001b[39mdiv\u001b[39m\u001b[39m'\u001b[39m, attrs\u001b[39m=\u001b[39m{\u001b[39m'\u001b[39m\u001b[39mdata-qa\u001b[39m\u001b[39m'\u001b[39m: \u001b[39m'\u001b[39m\u001b[39mbloko-tag bloko-tag_inline skills-element\u001b[39m\u001b[39m'\u001b[39m}):\n",
      "\u001b[0;31mAttributeError\u001b[0m: 'NoneType' object has no attribute 'text'"
     ]
    }
   ],
   "source": [
    "\n",
    "list = []\n",
    "vacancyCount = 0\n",
    "page = 0\n",
    "\n",
    "while (vacancyCount <= 100 or page <=20):\n",
    "    vacancyList = parsingVacancyList (config['urlSearch'],page)\n",
    "    if vacancyList is not None:\n",
    "        if len(vacancyList) == 0: \n",
    "            break\n",
    "        for vacancy in vacancyList:\n",
    "            insert = parsingVacancy(vacancy.attrs['href'])\n",
    "            if insert is not None:\n",
    "                list.append(insert)\n",
    "                vacancyCount += 1\n",
    "            time.sleep(5)\n",
    "    page += 1\n",
    "    print(f\"Старница: {page}. Вакансий: {vacancyCount}\")\n",
    "    "
   ]
  },
  {
   "cell_type": "code",
   "execution_count": 101,
   "metadata": {},
   "outputs": [
    {
     "data": {
      "text/plain": [
       "7"
      ]
     },
     "execution_count": 101,
     "metadata": {},
     "output_type": "execute_result"
    }
   ],
   "source": [
    "len(list)"
   ]
  },
  {
   "cell_type": "code",
   "execution_count": null,
   "metadata": {},
   "outputs": [],
   "source": [
    "with Session(engine) as session:\n",
    "    session.add_all(list)\n",
    "    session.commit()"
   ]
  }
 ],
 "metadata": {
  "kernelspec": {
   "display_name": "hw01",
   "language": "python",
   "name": "python3"
  },
  "language_info": {
   "codemirror_mode": {
    "name": "ipython",
    "version": 3
   },
   "file_extension": ".py",
   "mimetype": "text/x-python",
   "name": "python",
   "nbconvert_exporter": "python",
   "pygments_lexer": "ipython3",
   "version": "3.11.3"
  },
  "orig_nbformat": 4
 },
 "nbformat": 4,
 "nbformat_minor": 2
}
