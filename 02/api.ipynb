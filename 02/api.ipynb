{
 "cells": [
  {
   "cell_type": "code",
   "execution_count": 135,
   "metadata": {},
   "outputs": [],
   "source": [
    "import requests\n",
    "import time\n",
    "import sqlite3\n",
    "from sqlalchemy import create_engine\n",
    "from sqlalchemy.orm import DeclarativeBase\n",
    "from sqlalchemy.orm import Session\n",
    "from sqlalchemy.orm import mapped_column\n",
    "from sqlalchemy.orm import Mapped\n",
    "import json"
   ]
  },
  {
   "cell_type": "code",
   "execution_count": 136,
   "metadata": {},
   "outputs": [],
   "source": [
    "with open(\"config.json\", \"r\") as configFile:\n",
    "    config = json.loads(configFile.read())"
   ]
  },
  {
   "cell_type": "code",
   "execution_count": 154,
   "metadata": {},
   "outputs": [],
   "source": [
    "class Base(DeclarativeBase):\n",
    "    pass\n",
    "\n",
    "class vacancies(Base):\n",
    "    __tablename__ = 'vacancies'\n",
    " \n",
    "    key: Mapped[int] = mapped_column(primary_key=True)\n",
    "    company_name: Mapped[str]\n",
    "    position: Mapped[str]\n",
    "    job_description: Mapped[str] \n",
    "    key_skills: Mapped[str]\n",
    "\n",
    "engine = create_engine(config['dbConnect'])\n",
    "Base.metadata.create_all(engine)"
   ]
  },
  {
   "cell_type": "code",
   "execution_count": 151,
   "metadata": {},
   "outputs": [],
   "source": [
    "def apiVacancyList (url,page):\n",
    "    list = []\n",
    "    url_params = {\n",
    "        \"text\": \"middle python\",\n",
    "        \"search_field\": \"name\",\n",
    "        \"per_page\": \"50\",\n",
    "        \"page\": str(page)\n",
    "    }\n",
    "    result = requests.get(url, params=url_params)\n",
    "    if result.status_code == 200:\n",
    "        for item in result.json().get('items'):\n",
    "            list.append(item['url'])\n",
    "    else: \n",
    "        print(f\"Старница списка вакансий не загружена. Код ошибки: {result.status_code}. URL: {url}\")\n",
    "    return list"
   ]
  },
  {
   "cell_type": "code",
   "execution_count": 150,
   "metadata": {},
   "outputs": [],
   "source": [
    "def apiVacancy (url):\n",
    "    key_skillsList = []\n",
    "    result = requests.get(vacancy)\n",
    "\n",
    "    if result.status_code == 200:\n",
    "        try:\n",
    "            skills=result.json().get('key_skills')\n",
    "            for item in skills:\n",
    "                key_skillsList.append(item['name'])\n",
    "            key_skills = ', '.join(key_skillsList)\n",
    "\n",
    "            if key_skills:\n",
    "                insert = vacancies(company_name = (result.json().get('employer'))['name'],\n",
    "                                    position = result.json().get('name'), \n",
    "                                    job_description = result.json().get('description'), \n",
    "                                    key_skills=key_skills)\n",
    "            return insert\n",
    "        except: \n",
    "            print ('ошибка получения данных')\n",
    "            return None\n",
    "    else: \n",
    "        print(f\"Старница вакансии не загружена. Код ошибки: {result.status_code}. URL: {url}\")\n",
    "        return None"
   ]
  },
  {
   "cell_type": "code",
   "execution_count": 152,
   "metadata": {},
   "outputs": [
    {
     "name": "stdout",
     "output_type": "stream",
     "text": [
      "ошибка получения данных\n",
      "ошибка получения данных\n",
      "ошибка получения данных\n",
      "ошибка получения данных\n",
      "ошибка получения данных\n",
      "ошибка получения данных\n",
      "ошибка получения данных\n",
      "Старница: 0. Вакансий: 43\n",
      "ошибка получения данных\n",
      "ошибка получения данных\n",
      "ошибка получения данных\n",
      "ошибка получения данных\n",
      "ошибка получения данных\n",
      "ошибка получения данных\n",
      "Старница: 1. Вакансий: 87\n",
      "ошибка получения данных\n",
      "Старница: 2. Вакансий: 100\n",
      "Старница: 3. Вакансий: 100\n",
      "Старница: 4. Вакансий: 100\n"
     ]
    }
   ],
   "source": [
    "list = []\n",
    "vacancyCount = 0\n",
    "page = 0\n",
    "\n",
    "while (vacancyCount <= 100 or page <=5):\n",
    "    \n",
    "    vacancyList = apiVacancyList(config['urlAPI'],page)\n",
    "    \n",
    "    if len(vacancyList) != 0:\n",
    "        for vacancy in vacancyList:\n",
    "            if vacancyCount >= 100:\n",
    "                break\n",
    "            insert = apiVacancy(vacancy)\n",
    "            if insert is not None:\n",
    "                list.append(insert)\n",
    "                vacancyCount += 1\n",
    "    else: \n",
    "        break\n",
    "    print(f\"Старница: {page}. Вакансий: {vacancyCount}\")\n",
    "    page += 1"
   ]
  },
  {
   "cell_type": "code",
   "execution_count": 112,
   "metadata": {},
   "outputs": [],
   "source": [
    "result = requests.get(config['urlAPI'], params=url_params)"
   ]
  },
  {
   "cell_type": "code",
   "execution_count": 113,
   "metadata": {},
   "outputs": [],
   "source": [
    "len(result.json().get('items'))\n",
    "list1 = []\n",
    "\n",
    "vacancyList = result.json().get('items')"
   ]
  },
  {
   "cell_type": "code",
   "execution_count": 116,
   "metadata": {},
   "outputs": [],
   "source": [
    "\n",
    "\n",
    "for vacancy in vacancyList:\n",
    "    key_skillsList = []\n",
    "    result = requests.get(vacancy['url'])\n",
    "\n",
    "    company_name=(result.json().get('employer'))['name']\n",
    "    position=result.json().get('name')\n",
    "    job_description=result.json().get('description')\n",
    "    skills=result.json().get('key_skills')\n",
    "\n",
    "    for item in skills:\n",
    "        key_skillsList.append(item['name'])\n",
    "    key_skills = ', '.join(key_skillsList)\n",
    "\n",
    "    if key_skills:\n",
    "        insert = vacancies(company_name=company_name,\n",
    "                position=position, \n",
    "                job_description=job_description, \n",
    "                key_skills=key_skills)\n",
    "        list1.append(insert)"
   ]
  },
  {
   "cell_type": "code",
   "execution_count": 155,
   "metadata": {},
   "outputs": [],
   "source": [
    "with Session(engine) as session:\n",
    "    session.add_all(list)\n",
    "    session.commit()"
   ]
  },
  {
   "cell_type": "code",
   "execution_count": 126,
   "metadata": {},
   "outputs": [],
   "source": [
    "url = 'https://api.hh.ru/vacancies/82892335?host=hh.ru'\n",
    "result = requests.get(url)"
   ]
  },
  {
   "cell_type": "code",
   "execution_count": 129,
   "metadata": {},
   "outputs": [
    {
     "name": "stdout",
     "output_type": "stream",
     "text": [
      "DNS Технологии\n"
     ]
    }
   ],
   "source": [
    "print(result.json().get('employer')['name'])"
   ]
  },
  {
   "cell_type": "code",
   "execution_count": 148,
   "metadata": {},
   "outputs": [
    {
     "data": {
      "text/plain": [
       "200"
      ]
     },
     "execution_count": 148,
     "metadata": {},
     "output_type": "execute_result"
    }
   ],
   "source": [
    "result.status_code"
   ]
  }
 ],
 "metadata": {
  "kernelspec": {
   "display_name": "Python 3",
   "language": "python",
   "name": "python3"
  },
  "language_info": {
   "codemirror_mode": {
    "name": "ipython",
    "version": 3
   },
   "file_extension": ".py",
   "mimetype": "text/x-python",
   "name": "python",
   "nbconvert_exporter": "python",
   "pygments_lexer": "ipython3",
   "version": "3.11.3"
  },
  "orig_nbformat": 4
 },
 "nbformat": 4,
 "nbformat_minor": 2
}
